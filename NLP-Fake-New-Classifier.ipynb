{
  "nbformat": 4,
  "nbformat_minor": 0,
  "metadata": {
    "colab": {
      "name": "CS3481.ipynb",
      "provenance": [],
      "collapsed_sections": [],
      "machine_shape": "hm"
    },
    "kernelspec": {
      "name": "python3",
      "display_name": "Python 3"
    }
  },
  "cells": [
    {
      "cell_type": "code",
      "metadata": {
        "id": "Zso7lmGC_D6k",
        "colab_type": "code",
        "colab": {
          "base_uri": "https://localhost:8080/",
          "height": 605
        },
        "outputId": "aa6739d7-a3ec-408a-ff8a-a943e8a2049b"
      },
      "source": [
        "!wget https://github.com/pokleung5/NLP-Fake-New-Classifier/raw/master/Fake.csv\n",
        "!wget https://github.com/pokleung5/NLP-Fake-New-Classifier/raw/master/True.csv\n"
      ],
      "execution_count": null,
      "outputs": [
        {
          "output_type": "stream",
          "text": [
            "--2020-05-06 10:26:26--  https://github.com/pokleung5/NLP-Fake-New-Classifier/raw/master/Fake.csv\n",
            "Resolving github.com (github.com)... 140.82.113.4\n",
            "Connecting to github.com (github.com)|140.82.113.4|:443... connected.\n",
            "HTTP request sent, awaiting response... 302 Found\n",
            "Location: https://raw.githubusercontent.com/pokleung5/temp/master/Fake.csv [following]\n",
            "--2020-05-06 10:26:27--  https://raw.githubusercontent.com/pokleung5/temp/master/Fake.csv\n",
            "Resolving raw.githubusercontent.com (raw.githubusercontent.com)... 151.101.0.133, 151.101.64.133, 151.101.128.133, ...\n",
            "Connecting to raw.githubusercontent.com (raw.githubusercontent.com)|151.101.0.133|:443... connected.\n",
            "HTTP request sent, awaiting response... 200 OK\n",
            "Length: 62789876 (60M) [text/plain]\n",
            "Saving to: ‘Fake.csv.1’\n",
            "\n",
            "Fake.csv.1          100%[===================>]  59.88M  75.5MB/s    in 0.8s    \n",
            "\n",
            "2020-05-06 10:26:28 (75.5 MB/s) - ‘Fake.csv.1’ saved [62789876/62789876]\n",
            "\n",
            "--2020-05-06 10:26:29--  https://github.com/pokleung5/NLP-Fake-New-Classifier/raw/master/True.csv\n",
            "Resolving github.com (github.com)... 140.82.112.3\n",
            "Connecting to github.com (github.com)|140.82.112.3|:443... connected.\n",
            "HTTP request sent, awaiting response... 302 Found\n",
            "Location: https://raw.githubusercontent.com/pokleung5/temp/master/True.csv [following]\n",
            "--2020-05-06 10:26:30--  https://raw.githubusercontent.com/pokleung5/temp/master/True.csv\n",
            "Resolving raw.githubusercontent.com (raw.githubusercontent.com)... 151.101.0.133, 151.101.64.133, 151.101.128.133, ...\n",
            "Connecting to raw.githubusercontent.com (raw.githubusercontent.com)|151.101.0.133|:443... connected.\n",
            "HTTP request sent, awaiting response... 200 OK\n",
            "Length: 53561522 (51M) [text/plain]\n",
            "Saving to: ‘True.csv.1’\n",
            "\n",
            "True.csv.1          100%[===================>]  51.08M  57.5MB/s    in 0.9s    \n",
            "\n",
            "2020-05-06 10:26:31 (57.5 MB/s) - ‘True.csv.1’ saved [53561522/53561522]\n",
            "\n"
          ],
          "name": "stdout"
        }
      ]
    },
    {
      "cell_type": "code",
      "metadata": {
        "id": "EO_n6JLK9SOA",
        "colab_type": "code",
        "colab": {
          "base_uri": "https://localhost:8080/",
          "height": 1000
        },
        "outputId": "cebfcea6-2ab6-427a-d021-1cd153ce432a"
      },
      "source": [
        "!pip install pyenchant\n",
        "!pip install contractions\n",
        "!apt install libenchant-dev\n",
        "\n",
        "import nltk \n",
        "nltk.download('stopwords')\n",
        "nltk.download('wordnet')\n",
        "nltk.download('punkt')\n",
        "nltk.download('averaged_perceptron_tagger')\n",
        "nltk.download('words')\n"
      ],
      "execution_count": null,
      "outputs": [
        {
          "output_type": "stream",
          "text": [
            "Requirement already satisfied: pyenchant in /usr/local/lib/python3.6/dist-packages (3.0.1)\n",
            "Requirement already satisfied: contractions in /usr/local/lib/python3.6/dist-packages (0.0.24)\n",
            "Requirement already satisfied: textsearch in /usr/local/lib/python3.6/dist-packages (from contractions) (0.0.17)\n",
            "Requirement already satisfied: pyahocorasick in /usr/local/lib/python3.6/dist-packages (from textsearch->contractions) (1.4.0)\n",
            "Requirement already satisfied: Unidecode in /usr/local/lib/python3.6/dist-packages (from textsearch->contractions) (1.1.1)\n",
            "Reading package lists... Done\n",
            "Building dependency tree       \n",
            "Reading state information... Done\n",
            "The following additional packages will be installed:\n",
            "  aspell aspell-en dictionaries-common emacsen-common enchant hunspell-en-us\n",
            "  libaspell15 libenchant1c2a libhunspell-1.6-0 libtext-iconv-perl\n",
            "Suggested packages:\n",
            "  aspell-doc spellutils wordlist hunspell openoffice.org-hunspell\n",
            "  | openoffice.org-core libenchant-voikko\n",
            "The following NEW packages will be installed:\n",
            "  aspell aspell-en dictionaries-common emacsen-common enchant hunspell-en-us\n",
            "  libaspell15 libenchant-dev libenchant1c2a libhunspell-1.6-0\n",
            "  libtext-iconv-perl\n",
            "0 upgraded, 11 newly installed, 0 to remove and 29 not upgraded.\n",
            "Need to get 1,362 kB of archives.\n",
            "After this operation, 5,602 kB of additional disk space will be used.\n",
            "Get:1 http://archive.ubuntu.com/ubuntu bionic/main amd64 libtext-iconv-perl amd64 1.7-5build6 [13.0 kB]\n",
            "Get:2 http://archive.ubuntu.com/ubuntu bionic-updates/main amd64 libaspell15 amd64 0.60.7~20110707-4ubuntu0.1 [309 kB]\n",
            "Get:3 http://archive.ubuntu.com/ubuntu bionic/main amd64 emacsen-common all 2.0.8 [17.6 kB]\n",
            "Get:4 http://archive.ubuntu.com/ubuntu bionic/main amd64 dictionaries-common all 1.27.2 [186 kB]\n",
            "Get:5 http://archive.ubuntu.com/ubuntu bionic-updates/main amd64 aspell amd64 0.60.7~20110707-4ubuntu0.1 [87.6 kB]\n",
            "Get:6 http://archive.ubuntu.com/ubuntu bionic/main amd64 aspell-en all 2017.08.24-0-0.1 [298 kB]\n",
            "Get:7 http://archive.ubuntu.com/ubuntu bionic/main amd64 hunspell-en-us all 1:2017.08.24 [168 kB]\n",
            "Get:8 http://archive.ubuntu.com/ubuntu bionic/main amd64 libhunspell-1.6-0 amd64 1.6.2-1 [154 kB]\n",
            "Get:9 http://archive.ubuntu.com/ubuntu bionic/main amd64 libenchant1c2a amd64 1.6.0-11.1 [64.4 kB]\n",
            "Get:10 http://archive.ubuntu.com/ubuntu bionic/main amd64 enchant amd64 1.6.0-11.1 [12.2 kB]\n",
            "Get:11 http://archive.ubuntu.com/ubuntu bionic/main amd64 libenchant-dev amd64 1.6.0-11.1 [52.2 kB]\n",
            "Fetched 1,362 kB in 3s (540 kB/s)\n",
            "Preconfiguring packages ...\n",
            "Selecting previously unselected package libtext-iconv-perl.\n",
            "(Reading database ... 144429 files and directories currently installed.)\n",
            "Preparing to unpack .../00-libtext-iconv-perl_1.7-5build6_amd64.deb ...\n",
            "Unpacking libtext-iconv-perl (1.7-5build6) ...\n",
            "Selecting previously unselected package libaspell15:amd64.\n",
            "Preparing to unpack .../01-libaspell15_0.60.7~20110707-4ubuntu0.1_amd64.deb ...\n",
            "Unpacking libaspell15:amd64 (0.60.7~20110707-4ubuntu0.1) ...\n",
            "Selecting previously unselected package emacsen-common.\n",
            "Preparing to unpack .../02-emacsen-common_2.0.8_all.deb ...\n",
            "Unpacking emacsen-common (2.0.8) ...\n",
            "Selecting previously unselected package dictionaries-common.\n",
            "Preparing to unpack .../03-dictionaries-common_1.27.2_all.deb ...\n",
            "Adding 'diversion of /usr/share/dict/words to /usr/share/dict/words.pre-dictionaries-common by dictionaries-common'\n",
            "Unpacking dictionaries-common (1.27.2) ...\n",
            "Selecting previously unselected package aspell.\n",
            "Preparing to unpack .../04-aspell_0.60.7~20110707-4ubuntu0.1_amd64.deb ...\n",
            "Unpacking aspell (0.60.7~20110707-4ubuntu0.1) ...\n",
            "Selecting previously unselected package aspell-en.\n",
            "Preparing to unpack .../05-aspell-en_2017.08.24-0-0.1_all.deb ...\n",
            "Unpacking aspell-en (2017.08.24-0-0.1) ...\n",
            "Selecting previously unselected package hunspell-en-us.\n",
            "Preparing to unpack .../06-hunspell-en-us_1%3a2017.08.24_all.deb ...\n",
            "Unpacking hunspell-en-us (1:2017.08.24) ...\n",
            "Selecting previously unselected package libhunspell-1.6-0:amd64.\n",
            "Preparing to unpack .../07-libhunspell-1.6-0_1.6.2-1_amd64.deb ...\n",
            "Unpacking libhunspell-1.6-0:amd64 (1.6.2-1) ...\n",
            "Selecting previously unselected package libenchant1c2a:amd64.\n",
            "Preparing to unpack .../08-libenchant1c2a_1.6.0-11.1_amd64.deb ...\n",
            "Unpacking libenchant1c2a:amd64 (1.6.0-11.1) ...\n",
            "Selecting previously unselected package enchant.\n",
            "Preparing to unpack .../09-enchant_1.6.0-11.1_amd64.deb ...\n",
            "Unpacking enchant (1.6.0-11.1) ...\n",
            "Selecting previously unselected package libenchant-dev.\n",
            "Preparing to unpack .../10-libenchant-dev_1.6.0-11.1_amd64.deb ...\n",
            "Unpacking libenchant-dev (1.6.0-11.1) ...\n",
            "Setting up libhunspell-1.6-0:amd64 (1.6.2-1) ...\n",
            "Setting up libaspell15:amd64 (0.60.7~20110707-4ubuntu0.1) ...\n",
            "Setting up emacsen-common (2.0.8) ...\n",
            "Setting up libtext-iconv-perl (1.7-5build6) ...\n",
            "Setting up dictionaries-common (1.27.2) ...\n",
            "Setting up aspell (0.60.7~20110707-4ubuntu0.1) ...\n",
            "Setting up hunspell-en-us (1:2017.08.24) ...\n",
            "Setting up libenchant1c2a:amd64 (1.6.0-11.1) ...\n",
            "Setting up aspell-en (2017.08.24-0-0.1) ...\n",
            "Setting up enchant (1.6.0-11.1) ...\n",
            "Setting up libenchant-dev (1.6.0-11.1) ...\n",
            "Processing triggers for man-db (2.8.3-2ubuntu0.1) ...\n",
            "Processing triggers for libc-bin (2.27-3ubuntu1) ...\n",
            "/sbin/ldconfig.real: /usr/local/lib/python3.6/dist-packages/ideep4py/lib/libmkldnn.so.0 is not a symbolic link\n",
            "\n",
            "Processing triggers for dictionaries-common (1.27.2) ...\n",
            "aspell-autobuildhash: processing: en [en-common].\n",
            "aspell-autobuildhash: processing: en [en-variant_0].\n",
            "aspell-autobuildhash: processing: en [en-variant_1].\n",
            "aspell-autobuildhash: processing: en [en-variant_2].\n",
            "aspell-autobuildhash: processing: en [en-w_accents-only].\n",
            "aspell-autobuildhash: processing: en [en-wo_accents-only].\n",
            "aspell-autobuildhash: processing: en [en_AU-variant_0].\n",
            "aspell-autobuildhash: processing: en [en_AU-variant_1].\n",
            "aspell-autobuildhash: processing: en [en_AU-w_accents-only].\n",
            "aspell-autobuildhash: processing: en [en_AU-wo_accents-only].\n",
            "aspell-autobuildhash: processing: en [en_CA-variant_0].\n",
            "aspell-autobuildhash: processing: en [en_CA-variant_1].\n",
            "aspell-autobuildhash: processing: en [en_CA-w_accents-only].\n",
            "aspell-autobuildhash: processing: en [en_CA-wo_accents-only].\n",
            "aspell-autobuildhash: processing: en [en_GB-ise-w_accents-only].\n",
            "aspell-autobuildhash: processing: en [en_GB-ise-wo_accents-only].\n",
            "aspell-autobuildhash: processing: en [en_GB-ize-w_accents-only].\n",
            "aspell-autobuildhash: processing: en [en_GB-ize-wo_accents-only].\n",
            "aspell-autobuildhash: processing: en [en_GB-variant_0].\n",
            "aspell-autobuildhash: processing: en [en_GB-variant_1].\n",
            "aspell-autobuildhash: processing: en [en_US-w_accents-only].\n",
            "aspell-autobuildhash: processing: en [en_US-wo_accents-only].\n",
            "[nltk_data] Downloading package stopwords to /root/nltk_data...\n",
            "[nltk_data]   Unzipping corpora/stopwords.zip.\n",
            "[nltk_data] Downloading package wordnet to /root/nltk_data...\n",
            "[nltk_data]   Unzipping corpora/wordnet.zip.\n",
            "[nltk_data] Downloading package punkt to /root/nltk_data...\n",
            "[nltk_data]   Unzipping tokenizers/punkt.zip.\n",
            "[nltk_data] Downloading package averaged_perceptron_tagger to\n",
            "[nltk_data]     /root/nltk_data...\n",
            "[nltk_data]   Unzipping taggers/averaged_perceptron_tagger.zip.\n",
            "[nltk_data] Downloading package words to /root/nltk_data...\n",
            "[nltk_data]   Unzipping corpora/words.zip.\n"
          ],
          "name": "stdout"
        },
        {
          "output_type": "execute_result",
          "data": {
            "text/plain": [
              "True"
            ]
          },
          "metadata": {
            "tags": []
          },
          "execution_count": 4
        }
      ]
    },
    {
      "cell_type": "code",
      "metadata": {
        "id": "pNWIIBFR9-s4",
        "colab_type": "code",
        "colab": {}
      },
      "source": [
        "import pandas as pd\n",
        "import glob\n",
        "import os\n",
        "import csv\n",
        "import re"
      ],
      "execution_count": null,
      "outputs": []
    },
    {
      "cell_type": "code",
      "metadata": {
        "id": "iOrspBS4-JE8",
        "colab_type": "code",
        "colab": {}
      },
      "source": [
        "ext = '.csv' # should not be changed !!\n",
        "\n",
        "directory = './'\n",
        "filenames = ['True', 'Fake']\n",
        "\n",
        "label_col = '@label'\n",
        "\n",
        "# %%\n",
        " \n",
        "dataset = {}\n",
        "\n",
        "for fn in filenames:\n",
        "    dataset[fn] = pd.read_csv(os.path.join(directory, fn + ext))\n",
        "    dataset[fn][label_col] = fn\n",
        "\n",
        "rawdf = pd.concat(dataset.values()).fillna(\"\").reset_index()\n"
      ],
      "execution_count": null,
      "outputs": []
    },
    {
      "cell_type": "code",
      "metadata": {
        "id": "jS37uKOT-I9I",
        "colab_type": "code",
        "colab": {
          "base_uri": "https://localhost:8080/",
          "height": 147
        },
        "outputId": "52b2a836-51cc-4cb4-e6d4-8809009c9980"
      },
      "source": [
        "rawdf['@year'] = rawdf['date'].apply(lambda x:\n",
        "                               re.search('[0-9]{4}', x).group(0)\n",
        "                               if re.search('[0-9]{4}', x) is not None\n",
        "                               else \"\")\n",
        "\n",
        "rawdf = rawdf[rawdf['@year'] != \"\"]\n",
        "\n",
        "rawdf['@month'] = rawdf['date'].apply(lambda x:\n",
        "                                re.search('^[ ]*[^ ]{3}', x).group(0))\n",
        "\n",
        "rawdf.drop('date', axis=1, inplace=True)\n",
        "\n",
        "df = rawdf[rawdf['@year'] != '2015'] # rawdf[rawdf['@year'] != \"2015\"]\n",
        "\n",
        "df['@text'] = df['title'] + ' ' + df['text']\n"
      ],
      "execution_count": null,
      "outputs": [
        {
          "output_type": "stream",
          "text": [
            "/usr/local/lib/python3.6/dist-packages/ipykernel_launcher.py:15: SettingWithCopyWarning: \n",
            "A value is trying to be set on a copy of a slice from a DataFrame.\n",
            "Try using .loc[row_indexer,col_indexer] = value instead\n",
            "\n",
            "See the caveats in the documentation: https://pandas.pydata.org/pandas-docs/stable/user_guide/indexing.html#returning-a-view-versus-a-copy\n",
            "  from ipykernel import kernelapp as app\n"
          ],
          "name": "stderr"
        }
      ]
    },
    {
      "cell_type": "code",
      "metadata": {
        "id": "ZR7xv90G-I7k",
        "colab_type": "code",
        "colab": {}
      },
      "source": [
        "\n",
        "import string\n",
        "import enchant\n",
        "import contractions\n",
        "\n",
        "from nltk import pos_tag #, ne_chunk, tree2conlltags\n",
        "\n",
        "from nltk.corpus import stopwords, wordnet, words\n",
        "from nltk.stem.porter import PorterStemmer\n",
        "from nltk.tokenize import word_tokenize\n",
        "from nltk.stem.wordnet import WordNetLemmatizer\n",
        "\n",
        "import en_core_web_sm\n",
        "nlp_tag = en_core_web_sm.load()\n",
        "\n",
        "tag_dict = {\"J\": wordnet.ADJ,\n",
        "            \"N\": wordnet.NOUN,\n",
        "            \"V\": wordnet.VERB,\n",
        "            \"R\": wordnet.ADV}\n",
        "\n",
        "lem = WordNetLemmatizer()\n",
        "d = enchant.Dict(\"en_US\")\n",
        "\n",
        "wordsList = set(words.words())\n",
        "stopwords = set(stopwords.words('english'))\n",
        "\n",
        "def cleanText(s):\n",
        "    \n",
        "    s = re.sub(r'[a-z]+://[^\\s]+[\\s]?', ' _URL ', s)\n",
        "\n",
        "    s = contractions.fix(s.lower(), slang=False)\n",
        "    \n",
        "    for ent in nlp_tag(s).ents:\n",
        "        wordsList.add('_' + ent.label_)\n",
        "        s = s.replace(ent.text, ' ' + '_' + ent.label_ + ' ')\n",
        "\n",
        "    s = re.sub(r'[^_a-zA-Z]', ' ', s)\n",
        "\n",
        "    tags = pos_tag(word_tokenize(s)) \n",
        "\n",
        "    text = ''\n",
        "\n",
        "    for word, pos in tags:\n",
        "        if word[0] == '_' or len(word) > 1 and d.check(word):\n",
        "            tag = tag_dict.get(pos[0], None)\n",
        "            if tag is not None: \n",
        "                text += lem.lemmatize(word, pos=tag) + ' '\n",
        "            else:\n",
        "                text += word + ' '\n",
        "\n",
        "    return text\n",
        "\n",
        "from tqdm import tqdm\n",
        "tqdm.pandas()\n",
        "\n",
        "df['@text'] = df['@text'].progress_apply(cleanText) # .progress_apply(cleanText)\n",
        "\n",
        "df.to_csv(os.path.join(directory, 'after_preprocessed_.csv'),\n",
        "                 index=False, quoting=csv.QUOTE_ALL, doublequote=True)"
      ],
      "execution_count": null,
      "outputs": []
    },
    {
      "cell_type": "code",
      "metadata": {
        "id": "Ln49geRn4_1s",
        "colab_type": "code",
        "colab": {}
      },
      "source": [
        "# run this cell if runtime crashed\n",
        "import pandas as pd\n",
        "import glob\n",
        "import os\n",
        "import csv\n",
        "import re\n",
        "from nltk.corpus import stopwords, wordnet, words\n",
        "stopwords = set(stopwords.words('english'))\n",
        "\n",
        "df = pd.read_csv('after_preprocessed_.csv')\n"
      ],
      "execution_count": null,
      "outputs": []
    },
    {
      "cell_type": "code",
      "metadata": {
        "id": "dnLvDtLz-I4c",
        "colab_type": "code",
        "colab": {}
      },
      "source": [
        "\n",
        "from sklearn.feature_extraction.text import TfidfVectorizer, CountVectorizer\n",
        "\n",
        "from sklearn.naive_bayes import MultinomialNB\n",
        "from sklearn.ensemble import RandomForestClassifier\n",
        "from sklearn.tree import DecisionTreeClassifier\n",
        "\n",
        "\n",
        "cVect = TfidfVectorizer(\n",
        "                        # min_df=10,\n",
        "                        max_features=10000,\n",
        "                        # preprocessor=cleanText,\n",
        "                        stop_words=stopwords,\n",
        "                        # vocabulary=wordsList - stopwords,\n",
        "                        token_pattern='[_a-zA-z]+[-a-zA-z]+[a-zA-z]+', \n",
        "                        ngram_range=(1, 1))\n"
      ],
      "execution_count": null,
      "outputs": []
    },
    {
      "cell_type": "code",
      "metadata": {
        "id": "_peoc5Cd-I1U",
        "colab_type": "code",
        "colab": {}
      },
      "source": [
        "# %% \n",
        "from sklearn.model_selection import StratifiedKFold, cross_val_predict, train_test_split\n",
        "\n",
        "seed=5343\n",
        "\n",
        "train_features, test_features, train_target, test_target = train_test_split(\n",
        "    df['@text'], df['@label'], test_size=0.3, random_state=seed)\n",
        "\n",
        "\n",
        "train_features = cVect.fit_transform(train_features)\n",
        "train_features = pd.DataFrame(train_features.A, columns=cVect.get_feature_names())\n",
        "\n",
        "test_features = cVect.transform(test_features)\n",
        "test_features = pd.DataFrame(test_features.A, columns=cVect.get_feature_names())\n"
      ],
      "execution_count": null,
      "outputs": []
    },
    {
      "cell_type": "code",
      "metadata": {
        "id": "EZ0lgfNr-Iwo",
        "colab_type": "code",
        "colab": {}
      },
      "source": [
        "from sklearn.metrics import classification_report, confusion_matrix\n",
        "\n",
        "def print_report(target, predictions):\n",
        "    print(classification_report(target, predictions))\n",
        "    print(confusion_matrix(target, predictions))\n"
      ],
      "execution_count": null,
      "outputs": []
    },
    {
      "cell_type": "code",
      "metadata": {
        "id": "zMWg4rWU-Itg",
        "colab_type": "code",
        "colab": {
          "base_uri": "https://localhost:8080/",
          "height": 733
        },
        "outputId": "6b75f4ed-daf2-4684-99d5-f73a7b69a3f6"
      },
      "source": [
        "rfc = RandomForestClassifier()\n",
        "mNB = MultinomialNB()\n",
        "dtc = DecisionTreeClassifier()\n",
        "\n",
        "import time \n",
        "start = time.time()\n",
        "\n",
        "print(\"RandomForestClassifier\")\n",
        "rfc.fit(train_features, train_target)\n",
        "predict = rfc.predict(test_features)\n",
        "print_report(test_target, predict)\n",
        "\n",
        "end = time.time()\n",
        "print(end - start)\n",
        "\n",
        "start = time.time()\n",
        "\n",
        "print(\"MultinomialNB\")\n",
        "mNB.fit(train_features, train_target)\n",
        "predict = mNB.predict(test_features)\n",
        "print_report(test_target, predict)\n",
        "\n",
        "end = time.time()\n",
        "print(end - start)\n",
        "\n",
        "start = time.time()\n",
        "\n",
        "print(\"DecisionTreeClassifier\")\n",
        "dtc.fit(train_features, train_target)\n",
        "predict = dtc.predict(test_features)\n",
        "print_report(test_target, predict)\n",
        "\n",
        "end = time.time()\n",
        "print(end - start)\n"
      ],
      "execution_count": null,
      "outputs": [
        {
          "output_type": "stream",
          "text": [
            "RandomForestClassifier\n",
            "              precision    recall  f1-score   support\n",
            "\n",
            "        Fake       0.98      0.98      0.98      6398\n",
            "        True       0.98      0.98      0.98      6315\n",
            "\n",
            "    accuracy                           0.98     12713\n",
            "   macro avg       0.98      0.98      0.98     12713\n",
            "weighted avg       0.98      0.98      0.98     12713\n",
            "\n",
            "[[6245  153]\n",
            " [ 138 6177]]\n",
            "154.55568504333496\n",
            "MultinomialNB\n",
            "              precision    recall  f1-score   support\n",
            "\n",
            "        Fake       0.93      0.90      0.91      6398\n",
            "        True       0.90      0.93      0.92      6315\n",
            "\n",
            "    accuracy                           0.91     12713\n",
            "   macro avg       0.92      0.91      0.91     12713\n",
            "weighted avg       0.92      0.91      0.91     12713\n",
            "\n",
            "[[5780  618]\n",
            " [ 464 5851]]\n",
            "3.1462624073028564\n",
            "DecisionTreeClassifier\n",
            "              precision    recall  f1-score   support\n",
            "\n",
            "        Fake       0.95      0.96      0.95      6398\n",
            "        True       0.96      0.94      0.95      6315\n",
            "\n",
            "    accuracy                           0.95     12713\n",
            "   macro avg       0.95      0.95      0.95     12713\n",
            "weighted avg       0.95      0.95      0.95     12713\n",
            "\n",
            "[[6164  234]\n",
            " [ 348 5967]]\n",
            "343.4171712398529\n"
          ],
          "name": "stdout"
        }
      ]
    },
    {
      "cell_type": "code",
      "metadata": {
        "id": "n2TSeGpx-IqY",
        "colab_type": "code",
        "colab": {}
      },
      "source": [
        "rfc = RandomForestClassifier()\n",
        "mNB = MultinomialNB()\n",
        "dtc = DecisionTreeClassifier()\n",
        "\n",
        "all_features = cVect.transform(df['@text'])\n",
        "# all_features = pd.DataFrame(all_features.A, columns=cVect.get_feature_names())\n",
        "all_targets = df['@label']\n",
        "\n",
        "cv = StratifiedKFold(n_splits=10, shuffle=True)\n",
        "\n",
        "import time\n",
        "start = time.time()\n",
        "\n",
        "print(\"RandomForestClassifier\")\n",
        "predict = cross_val_predict(\n",
        "                rfc, all_features, all_targets, cv=cv)\n",
        "print_report(all_targets, predict)\n",
        "\n",
        "end = time.time()\n",
        "print(end - start)\n",
        "\n",
        "start = time.time()\n",
        "\n",
        "print(\"MultinomialNB\")\n",
        "predict = cross_val_predict(\n",
        "                mNB, all_features, all_targets, cv=cv)\n",
        "print_report(all_targets, predict)\n",
        "\n",
        "end = time.time()\n",
        "print(end - start)\n",
        "start = time.time()\n",
        "\n",
        "print(\"DecisionTreeClassifier\")\n",
        "predict = cross_val_predict(\n",
        "                dtc, all_features, all_targets, cv=cv)\n",
        "print_report(all_targets, predict)\n",
        "end = time.time()\n",
        "print(end - start)"
      ],
      "execution_count": null,
      "outputs": []
    },
    {
      "cell_type": "code",
      "metadata": {
        "id": "2Y7p4Ym0SpBo",
        "colab_type": "code",
        "colab": {}
      },
      "source": [
        "from sklearn.metrics import roc_curve, auc\n",
        "\n",
        "import matplotlib.pyplot as plt\n",
        "import matplotlib as mpl\n",
        "from matplotlib.legend_handler import HandlerLine2D\n",
        "\n",
        "\n",
        "train_target = train_target.map({'True': 0, 'Fake': 1})\n",
        "test_target = test_target.map({'True': 0, 'Fake': 1})\n",
        "\n",
        "#%% "
      ],
      "execution_count": null,
      "outputs": []
    },
    {
      "cell_type": "code",
      "metadata": {
        "id": "v2Xs1lGOY658",
        "colab_type": "code",
        "colab": {}
      },
      "source": [
        "\n",
        "max_depth = [n for n in range(20, 60, 10)]  # None, 13\n",
        "min_samples_split = [n / 20 for n in range(1, 20)]  # 0.2, 0.15\n",
        "min_samples_leaf = [n / 50 for n in range(1, 11)] # 0.1, 0.05\n"
      ],
      "execution_count": null,
      "outputs": []
    },
    {
      "cell_type": "code",
      "metadata": {
        "id": "52Y3XlG3LZq8",
        "colab_type": "code",
        "colab": {
          "base_uri": "https://localhost:8080/",
          "height": 981
        },
        "outputId": "60e8fd45-27b8-455b-a2e2-19f5f05e92b4"
      },
      "source": [
        "\n",
        "data = []\n",
        "treeClassifier = DecisionTreeClassifier\n",
        "\n",
        "for n in min_samples_split:\n",
        "    rtc = treeClassifier(max_depth=40, min_samples_split=n)\n",
        "\n",
        "    rtc.fit(train_features, train_target)\n",
        "\n",
        "    xfpr, xtpr, _ = roc_curve(train_target, rtc.predict(train_features))\n",
        "\n",
        "    yfpr, ytpr, _ = roc_curve(test_target, rtc.predict(test_features))\n",
        "    x, y = auc(xfpr, xtpr), auc(yfpr, ytpr)\n",
        "    print(n, x, y)\n",
        "\n",
        "    data.append([n, x, y])\n",
        "\n",
        "# %% \n",
        "data = pd.DataFrame(data, columns=['N', 'Train', 'Test'])\n",
        "\n",
        "line1, = plt.plot(data['N'], data['Train'], 'b', label='Train AUC')\n",
        "line2, = plt.plot(data['N'], data['Test'], 'r', label='Test AUC')\n",
        "# line3, = plt.plot(data['N'], data['CV'], 'y', label='CV AUC')\n",
        "\n",
        "plt.legend(handler_map={line1: HandlerLine2D(numpoints=2)})\n",
        "\n",
        "plt.ylabel('AUC score')\n",
        "\n",
        "# plt.xlabel('min samples leaf')\n",
        "plt.show()\n",
        "print(data.to_string(index=False))\n",
        "\n"
      ],
      "execution_count": null,
      "outputs": [
        {
          "output_type": "stream",
          "text": [
            "0.05 0.9296101845045558 0.9154913810407399\n",
            "0.1 0.9217560508863922 0.9116280770638687\n",
            "0.15 0.8940890794851347 0.8824607081042993\n",
            "0.2 0.8560357465382115 0.8464711606977339\n",
            "0.25 0.8560357465382115 0.8463919841339966\n",
            "0.3 0.8560357465382115 0.846389929849911\n",
            "0.35 0.8560357465382115 0.8463107532861739\n",
            "0.4 0.8492536554028934 0.8414366425374914\n",
            "0.45 0.8463619719174262 0.8394612503857971\n",
            "0.5 0.825798834018379 0.8198383822933581\n",
            "0.55 0.7688619646176587 0.762210243848471\n",
            "0.6 0.7688619646176587 0.762210243848471\n",
            "0.65 0.7688619646176587 0.762210243848471\n",
            "0.7 0.7688619646176587 0.762210243848471\n",
            "0.75 0.7688619646176587 0.762210243848471\n",
            "0.8 0.7688619646176587 0.762210243848471\n",
            "0.85 0.7688619646176587 0.762210243848471\n",
            "0.9 0.7688619646176587 0.762210243848471\n",
            "0.95 0.7688619646176587 0.762210243848471\n"
          ],
          "name": "stdout"
        },
        {
          "output_type": "display_data",
          "data": {
            "image/png": "[encoded data removed]",
            "text/plain": [
              "<Figure size 432x288 with 1 Axes>"
            ]
          },
          "metadata": {
            "tags": [],
            "needs_background": "light"
          }
        },
        {
          "output_type": "stream",
          "text": [
            "    N     Train      Test\n",
            " 0.05  0.929610  0.915491\n",
            " 0.10  0.921756  0.911628\n",
            " 0.15  0.894089  0.882461\n",
            " 0.20  0.856036  0.846471\n",
            " 0.25  0.856036  0.846392\n",
            " 0.30  0.856036  0.846390\n",
            " 0.35  0.856036  0.846311\n",
            " 0.40  0.849254  0.841437\n",
            " 0.45  0.846362  0.839461\n",
            " 0.50  0.825799  0.819838\n",
            " 0.55  0.768862  0.762210\n",
            " 0.60  0.768862  0.762210\n",
            " 0.65  0.768862  0.762210\n",
            " 0.70  0.768862  0.762210\n",
            " 0.75  0.768862  0.762210\n",
            " 0.80  0.768862  0.762210\n",
            " 0.85  0.768862  0.762210\n",
            " 0.90  0.768862  0.762210\n",
            " 0.95  0.768862  0.762210\n"
          ],
          "name": "stdout"
        }
      ]
    }
  ]
}